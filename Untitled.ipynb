{
 "cells": [
  {
   "cell_type": "code",
   "execution_count": 1,
   "id": "a927026c-9b6f-454e-8e54-2aab2375d3fb",
   "metadata": {},
   "outputs": [],
   "source": [
    "from keras.utils import to_categorical\n",
    "from keras.preprocessing.image import load_img, img_to_array\n",
    "from keras.models import Sequential\n",
    "from keras.layers import Dense, Conv2D, Dropout, Flatten, MaxPooling2D\n",
    "from keras.preprocessing import image\n",
    "import os\n",
    "import numpy as np\n",
    "import pandas as pd\n",
    "from tqdm.notebook import tqdm\n",
    "import matplotlib.pyplot as plt"
   ]
  },
  {
   "cell_type": "code",
   "execution_count": 2,
   "id": "3a1e2b79-e766-4e01-867e-f832f644df73",
   "metadata": {},
   "outputs": [],
   "source": [
    "TRAIN_DIR = 'images/train'\n",
    "TEST_DIR = 'images/test'"
   ]
  },
  {
   "cell_type": "code",
   "execution_count": 3,
   "id": "af9a17d5-ec83-4eaf-b46d-b811731e28fc",
   "metadata": {},
   "outputs": [],
   "source": [
    "def createdataframe(dir):\n",
    "    image_paths = []\n",
    "    labels = []\n",
    "    for label in os.listdir(dir):\n",
    "        for imagename in os.listdir(os.path.join(dir,label)):\n",
    "            image_paths.append(os.path.join(dir,label,imagename))\n",
    "            labels.append(label)\n",
    "        print(label,\"completed\")\n",
    "    return image_paths,labels"
   ]
  },
  {
   "cell_type": "code",
   "execution_count": 4,
   "id": "1b823bda-fc95-41a4-b713-b2b095e66c60",
   "metadata": {},
   "outputs": [
    {
     "name": "stdout",
     "output_type": "stream",
     "text": [
      "angry completed\n",
      "disgust completed\n",
      "fear completed\n",
      "happy completed\n",
      "neutral completed\n",
      "sad completed\n",
      "surprise completed\n",
      "                                image     label\n",
      "0            images/train\\angry\\0.jpg     angry\n",
      "1            images/train\\angry\\1.jpg     angry\n",
      "2           images/train\\angry\\10.jpg     angry\n",
      "3        images/train\\angry\\10002.jpg     angry\n",
      "4        images/train\\angry\\10016.jpg     angry\n",
      "...                               ...       ...\n",
      "28816  images/train\\surprise\\9969.jpg  surprise\n",
      "28817  images/train\\surprise\\9985.jpg  surprise\n",
      "28818  images/train\\surprise\\9990.jpg  surprise\n",
      "28819  images/train\\surprise\\9992.jpg  surprise\n",
      "28820  images/train\\surprise\\9996.jpg  surprise\n",
      "\n",
      "[28821 rows x 2 columns]\n",
      "angry completed\n",
      "disgust completed\n",
      "fear completed\n",
      "happy completed\n",
      "neutral completed\n",
      "sad completed\n",
      "surprise completed\n",
      "                              image     label\n",
      "0       images/test\\angry\\10052.jpg     angry\n",
      "1       images/test\\angry\\10065.jpg     angry\n",
      "2       images/test\\angry\\10079.jpg     angry\n",
      "3       images/test\\angry\\10095.jpg     angry\n",
      "4       images/test\\angry\\10121.jpg     angry\n",
      "...                             ...       ...\n",
      "7061  images/test\\surprise\\9806.jpg  surprise\n",
      "7062  images/test\\surprise\\9830.jpg  surprise\n",
      "7063  images/test\\surprise\\9853.jpg  surprise\n",
      "7064  images/test\\surprise\\9878.jpg  surprise\n",
      "7065   images/test\\surprise\\993.jpg  surprise\n",
      "\n",
      "[7066 rows x 2 columns]\n",
      "0         images/test\\angry\\10052.jpg\n",
      "1         images/test\\angry\\10065.jpg\n",
      "2         images/test\\angry\\10079.jpg\n",
      "3         images/test\\angry\\10095.jpg\n",
      "4         images/test\\angry\\10121.jpg\n",
      "                    ...              \n",
      "7061    images/test\\surprise\\9806.jpg\n",
      "7062    images/test\\surprise\\9830.jpg\n",
      "7063    images/test\\surprise\\9853.jpg\n",
      "7064    images/test\\surprise\\9878.jpg\n",
      "7065     images/test\\surprise\\993.jpg\n",
      "Name: image, Length: 7066, dtype: object\n"
     ]
    }
   ],
   "source": [
    "train = pd.DataFrame()\n",
    "train['image'], train['label'] = createdataframe(TRAIN_DIR)\n",
    "\n",
    "print(train)\n",
    "\n",
    "test = pd.DataFrame()\n",
    "test['image'], test['label'] = createdataframe(TEST_DIR)\n",
    "\n",
    "print(test)\n",
    "print(test['image'])"
   ]
  },
  {
   "cell_type": "code",
   "execution_count": 5,
   "id": "2ea2fc92-d7de-4d2f-b0dd-87bbb19ad488",
   "metadata": {},
   "outputs": [
    {
     "name": "stdout",
     "output_type": "stream",
     "text": [
      "                                image     label\n",
      "0            images/train\\angry\\0.jpg     angry\n",
      "1            images/train\\angry\\1.jpg     angry\n",
      "2           images/train\\angry\\10.jpg     angry\n",
      "3        images/train\\angry\\10002.jpg     angry\n",
      "4        images/train\\angry\\10016.jpg     angry\n",
      "...                               ...       ...\n",
      "28816  images/train\\surprise\\9969.jpg  surprise\n",
      "28817  images/train\\surprise\\9985.jpg  surprise\n",
      "28818  images/train\\surprise\\9990.jpg  surprise\n",
      "28819  images/train\\surprise\\9992.jpg  surprise\n",
      "28820  images/train\\surprise\\9996.jpg  surprise\n",
      "\n",
      "[28821 rows x 2 columns]\n"
     ]
    }
   ],
   "source": [
    "print(train)"
   ]
  },
  {
   "cell_type": "code",
   "execution_count": 6,
   "id": "37fa7b50-d067-47ed-9408-049f1fa4eefd",
   "metadata": {},
   "outputs": [
    {
     "name": "stdout",
     "output_type": "stream",
     "text": [
      "angry completed\n",
      "disgust completed\n",
      "fear completed\n",
      "happy completed\n",
      "neutral completed\n",
      "sad completed\n",
      "surprise completed\n"
     ]
    }
   ],
   "source": [
    "test = pd.DataFrame()\n",
    "test['image'], test['label'] = createdataframe(TEST_DIR)"
   ]
  },
  {
   "cell_type": "code",
   "execution_count": 7,
   "id": "1aa15ce3-37fb-4d8c-ad67-da3a2aa3ea58",
   "metadata": {},
   "outputs": [
    {
     "name": "stdout",
     "output_type": "stream",
     "text": [
      "                              image     label\n",
      "0       images/test\\angry\\10052.jpg     angry\n",
      "1       images/test\\angry\\10065.jpg     angry\n",
      "2       images/test\\angry\\10079.jpg     angry\n",
      "3       images/test\\angry\\10095.jpg     angry\n",
      "4       images/test\\angry\\10121.jpg     angry\n",
      "...                             ...       ...\n",
      "7061  images/test\\surprise\\9806.jpg  surprise\n",
      "7062  images/test\\surprise\\9830.jpg  surprise\n",
      "7063  images/test\\surprise\\9853.jpg  surprise\n",
      "7064  images/test\\surprise\\9878.jpg  surprise\n",
      "7065   images/test\\surprise\\993.jpg  surprise\n",
      "\n",
      "[7066 rows x 2 columns]\n",
      "0         images/test\\angry\\10052.jpg\n",
      "1         images/test\\angry\\10065.jpg\n",
      "2         images/test\\angry\\10079.jpg\n",
      "3         images/test\\angry\\10095.jpg\n",
      "4         images/test\\angry\\10121.jpg\n",
      "                    ...              \n",
      "7061    images/test\\surprise\\9806.jpg\n",
      "7062    images/test\\surprise\\9830.jpg\n",
      "7063    images/test\\surprise\\9853.jpg\n",
      "7064    images/test\\surprise\\9878.jpg\n",
      "7065     images/test\\surprise\\993.jpg\n",
      "Name: image, Length: 7066, dtype: object\n"
     ]
    }
   ],
   "source": [
    "print(test)\n",
    "print(test['image'])"
   ]
  },
  {
   "cell_type": "code",
   "execution_count": 8,
   "id": "bd4d95b5-e2a8-4608-8985-da676f3a5ce7",
   "metadata": {},
   "outputs": [],
   "source": [
    "from tqdm.notebook import tqdm"
   ]
  },
  {
   "cell_type": "code",
   "execution_count": 9,
   "id": "12d7ef20-c697-45b7-b6a0-fc78c049235b",
   "metadata": {},
   "outputs": [],
   "source": [
    "def extract_features(images):\n",
    "    features = []\n",
    "    for image_path in tqdm(images):\n",
    "        img = load_img(image_path, color_mode='grayscale')\n",
    "        img_array = img_to_array(img)\n",
    "        features.append(img_array)\n",
    "    features = np.array(features)\n",
    "    features = features.reshape(len(features), 48, 48, 1)\n",
    "    return features"
   ]
  },
  {
   "cell_type": "code",
   "execution_count": 10,
   "id": "0f4ef605-bbfc-41ed-8867-98dd51a6ae3a",
   "metadata": {},
   "outputs": [
    {
     "data": {
      "application/vnd.jupyter.widget-view+json": {
       "model_id": "89cb6de44d174cc49ca82fa06e11d620",
       "version_major": 2,
       "version_minor": 0
      },
      "text/plain": [
       "  0%|          | 0/28821 [00:00<?, ?it/s]"
      ]
     },
     "metadata": {},
     "output_type": "display_data"
    }
   ],
   "source": [
    "train_features = extract_features(train['image'])"
   ]
  },
  {
   "cell_type": "code",
   "execution_count": 11,
   "id": "660ee849-edc3-4d4c-a4bf-0a99774e104a",
   "metadata": {},
   "outputs": [
    {
     "data": {
      "application/vnd.jupyter.widget-view+json": {
       "model_id": "39dd6bc6cc11462db925314174bfbfce",
       "version_major": 2,
       "version_minor": 0
      },
      "text/plain": [
       "  0%|          | 0/7066 [00:00<?, ?it/s]"
      ]
     },
     "metadata": {},
     "output_type": "display_data"
    }
   ],
   "source": [
    "test_features = extract_features(test['image'])"
   ]
  },
  {
   "cell_type": "code",
   "execution_count": 12,
   "id": "7ad7b660-0581-47c3-94fc-d70f62623dc4",
   "metadata": {},
   "outputs": [],
   "source": [
    "x_train = train_features/255.0\n",
    "x_test = test_features/255.0"
   ]
  },
  {
   "cell_type": "code",
   "execution_count": 13,
   "id": "a69ebb5c-2076-485a-8883-ccf58de261fc",
   "metadata": {},
   "outputs": [],
   "source": [
    "from sklearn.preprocessing import LabelEncoder"
   ]
  },
  {
   "cell_type": "code",
   "execution_count": 14,
   "id": "70a53eb5-368e-4132-a521-2ad069ebf5ed",
   "metadata": {},
   "outputs": [
    {
     "data": {
      "text/html": [
       "<style>#sk-container-id-1 {color: black;}#sk-container-id-1 pre{padding: 0;}#sk-container-id-1 div.sk-toggleable {background-color: white;}#sk-container-id-1 label.sk-toggleable__label {cursor: pointer;display: block;width: 100%;margin-bottom: 0;padding: 0.3em;box-sizing: border-box;text-align: center;}#sk-container-id-1 label.sk-toggleable__label-arrow:before {content: \"▸\";float: left;margin-right: 0.25em;color: #696969;}#sk-container-id-1 label.sk-toggleable__label-arrow:hover:before {color: black;}#sk-container-id-1 div.sk-estimator:hover label.sk-toggleable__label-arrow:before {color: black;}#sk-container-id-1 div.sk-toggleable__content {max-height: 0;max-width: 0;overflow: hidden;text-align: left;background-color: #f0f8ff;}#sk-container-id-1 div.sk-toggleable__content pre {margin: 0.2em;color: black;border-radius: 0.25em;background-color: #f0f8ff;}#sk-container-id-1 input.sk-toggleable__control:checked~div.sk-toggleable__content {max-height: 200px;max-width: 100%;overflow: auto;}#sk-container-id-1 input.sk-toggleable__control:checked~label.sk-toggleable__label-arrow:before {content: \"▾\";}#sk-container-id-1 div.sk-estimator input.sk-toggleable__control:checked~label.sk-toggleable__label {background-color: #d4ebff;}#sk-container-id-1 div.sk-label input.sk-toggleable__control:checked~label.sk-toggleable__label {background-color: #d4ebff;}#sk-container-id-1 input.sk-hidden--visually {border: 0;clip: rect(1px 1px 1px 1px);clip: rect(1px, 1px, 1px, 1px);height: 1px;margin: -1px;overflow: hidden;padding: 0;position: absolute;width: 1px;}#sk-container-id-1 div.sk-estimator {font-family: monospace;background-color: #f0f8ff;border: 1px dotted black;border-radius: 0.25em;box-sizing: border-box;margin-bottom: 0.5em;}#sk-container-id-1 div.sk-estimator:hover {background-color: #d4ebff;}#sk-container-id-1 div.sk-parallel-item::after {content: \"\";width: 100%;border-bottom: 1px solid gray;flex-grow: 1;}#sk-container-id-1 div.sk-label:hover label.sk-toggleable__label {background-color: #d4ebff;}#sk-container-id-1 div.sk-serial::before {content: \"\";position: absolute;border-left: 1px solid gray;box-sizing: border-box;top: 0;bottom: 0;left: 50%;z-index: 0;}#sk-container-id-1 div.sk-serial {display: flex;flex-direction: column;align-items: center;background-color: white;padding-right: 0.2em;padding-left: 0.2em;position: relative;}#sk-container-id-1 div.sk-item {position: relative;z-index: 1;}#sk-container-id-1 div.sk-parallel {display: flex;align-items: stretch;justify-content: center;background-color: white;position: relative;}#sk-container-id-1 div.sk-item::before, #sk-container-id-1 div.sk-parallel-item::before {content: \"\";position: absolute;border-left: 1px solid gray;box-sizing: border-box;top: 0;bottom: 0;left: 50%;z-index: -1;}#sk-container-id-1 div.sk-parallel-item {display: flex;flex-direction: column;z-index: 1;position: relative;background-color: white;}#sk-container-id-1 div.sk-parallel-item:first-child::after {align-self: flex-end;width: 50%;}#sk-container-id-1 div.sk-parallel-item:last-child::after {align-self: flex-start;width: 50%;}#sk-container-id-1 div.sk-parallel-item:only-child::after {width: 0;}#sk-container-id-1 div.sk-dashed-wrapped {border: 1px dashed gray;margin: 0 0.4em 0.5em 0.4em;box-sizing: border-box;padding-bottom: 0.4em;background-color: white;}#sk-container-id-1 div.sk-label label {font-family: monospace;font-weight: bold;display: inline-block;line-height: 1.2em;}#sk-container-id-1 div.sk-label-container {text-align: center;}#sk-container-id-1 div.sk-container {/* jupyter's `normalize.less` sets `[hidden] { display: none; }` but bootstrap.min.css set `[hidden] { display: none !important; }` so we also need the `!important` here to be able to override the default hidden behavior on the sphinx rendered scikit-learn.org. See: https://github.com/scikit-learn/scikit-learn/issues/21755 */display: inline-block !important;position: relative;}#sk-container-id-1 div.sk-text-repr-fallback {display: none;}</style><div id=\"sk-container-id-1\" class=\"sk-top-container\"><div class=\"sk-text-repr-fallback\"><pre>LabelEncoder()</pre><b>In a Jupyter environment, please rerun this cell to show the HTML representation or trust the notebook. <br />On GitHub, the HTML representation is unable to render, please try loading this page with nbviewer.org.</b></div><div class=\"sk-container\" hidden><div class=\"sk-item\"><div class=\"sk-estimator sk-toggleable\"><input class=\"sk-toggleable__control sk-hidden--visually\" id=\"sk-estimator-id-1\" type=\"checkbox\" checked><label for=\"sk-estimator-id-1\" class=\"sk-toggleable__label sk-toggleable__label-arrow\">LabelEncoder</label><div class=\"sk-toggleable__content\"><pre>LabelEncoder()</pre></div></div></div></div></div>"
      ],
      "text/plain": [
       "LabelEncoder()"
      ]
     },
     "execution_count": 14,
     "metadata": {},
     "output_type": "execute_result"
    }
   ],
   "source": [
    "le = LabelEncoder()\n",
    "le.fit(train['label'])"
   ]
  },
  {
   "cell_type": "code",
   "execution_count": 15,
   "id": "852f4cdc-30a6-4c87-b7f1-5d630c41a236",
   "metadata": {},
   "outputs": [],
   "source": [
    "y_train = le.transform(train['label'])\n",
    "y_test = le.transform(test['label'])"
   ]
  },
  {
   "cell_type": "code",
   "execution_count": 16,
   "id": "bc5d31e7-6eff-4593-afb7-559f1cc86dc6",
   "metadata": {},
   "outputs": [],
   "source": [
    "y_train = to_categorical(y_train,num_classes = 7)\n",
    "y_test = to_categorical(y_test,num_classes = 7)"
   ]
  },
  {
   "cell_type": "code",
   "execution_count": 17,
   "id": "db640c12-30a6-4894-9cd4-419151839e98",
   "metadata": {},
   "outputs": [],
   "source": [
    "model = Sequential()\n",
    "\n",
    "#Adding Convolutional Layers\n",
    "model.add(Conv2D(128, kernel_size=(3,3),activation='relu',input_shape=(48,48,1)))\n",
    "model.add(MaxPooling2D(pool_size=(2,2)))\n",
    "model.add(Dropout(0.4))\n",
    "\n",
    "model.add(Conv2D(256, kernel_size=(3,3),activation='relu'))\n",
    "model.add(MaxPooling2D(pool_size=(2,2)))\n",
    "model.add(Dropout(0.4))\n",
    "\n",
    "model.add(Conv2D(512, kernel_size=(3,3),activation='relu'))\n",
    "model.add(MaxPooling2D(pool_size=(2,2)))\n",
    "model.add(Dropout(0.4))\n",
    "\n",
    "model.add(Conv2D(512, kernel_size=(3,3),activation='relu'))\n",
    "model.add(MaxPooling2D(pool_size=(2,2)))\n",
    "model.add(Dropout(0.4))\n",
    "\n",
    "model.add(Flatten())\n",
    "\n",
    "model.add(Dense(512,activation='relu'))\n",
    "model.add(Dropout(0.4))\n",
    "model.add(Dense(256,activation='relu'))\n",
    "model.add(Dropout(0.3))\n",
    "\n",
    "model.add(Dense(7,activation='softmax'))"
   ]
  },
  {
   "cell_type": "code",
   "execution_count": 18,
   "id": "4f99b31e-45e2-4ebb-9291-dda6603053e3",
   "metadata": {},
   "outputs": [],
   "source": [
    "model.compile(optimizer='adam' , loss = 'categorical_crossentropy', metrics = 'accuracy')"
   ]
  },
  {
   "cell_type": "code",
   "execution_count": 19,
   "id": "ad93ecd4-7581-461b-8417-f0edb8f443da",
   "metadata": {},
   "outputs": [
    {
     "name": "stdout",
     "output_type": "stream",
     "text": [
      "Epoch 1/100\n",
      "226/226 [==============================] - 862s 4s/step - loss: 1.8243 - accuracy: 0.2429 - val_loss: 1.8133 - val_accuracy: 0.2583\n",
      "Epoch 2/100\n",
      "226/226 [==============================] - 810s 4s/step - loss: 1.8018 - accuracy: 0.2506 - val_loss: 1.7739 - val_accuracy: 0.2601\n",
      "Epoch 3/100\n",
      "226/226 [==============================] - 792s 4s/step - loss: 1.7239 - accuracy: 0.2896 - val_loss: 1.6204 - val_accuracy: 0.3653\n",
      "Epoch 4/100\n",
      "226/226 [==============================] - 783s 3s/step - loss: 1.6003 - accuracy: 0.3629 - val_loss: 1.4463 - val_accuracy: 0.4442\n",
      "Epoch 5/100\n",
      "226/226 [==============================] - 784s 3s/step - loss: 1.4897 - accuracy: 0.4204 - val_loss: 1.3516 - val_accuracy: 0.4791\n",
      "Epoch 6/100\n",
      "226/226 [==============================] - 756s 3s/step - loss: 1.4247 - accuracy: 0.4487 - val_loss: 1.3020 - val_accuracy: 0.4982\n",
      "Epoch 7/100\n",
      "226/226 [==============================] - 780s 3s/step - loss: 1.3789 - accuracy: 0.4699 - val_loss: 1.2509 - val_accuracy: 0.5228\n",
      "Epoch 8/100\n",
      "226/226 [==============================] - 773s 3s/step - loss: 1.3520 - accuracy: 0.4786 - val_loss: 1.2401 - val_accuracy: 0.5293\n",
      "Epoch 9/100\n",
      "226/226 [==============================] - 742s 3s/step - loss: 1.3251 - accuracy: 0.4923 - val_loss: 1.2201 - val_accuracy: 0.5478\n",
      "Epoch 10/100\n",
      "226/226 [==============================] - 757s 3s/step - loss: 1.2978 - accuracy: 0.5060 - val_loss: 1.1940 - val_accuracy: 0.5480\n",
      "Epoch 11/100\n",
      "226/226 [==============================] - 758s 3s/step - loss: 1.2747 - accuracy: 0.5110 - val_loss: 1.1765 - val_accuracy: 0.5539\n",
      "Epoch 12/100\n",
      "226/226 [==============================] - 739s 3s/step - loss: 1.2570 - accuracy: 0.5218 - val_loss: 1.1673 - val_accuracy: 0.5575\n",
      "Epoch 13/100\n",
      "226/226 [==============================] - 763s 3s/step - loss: 1.2443 - accuracy: 0.5252 - val_loss: 1.1597 - val_accuracy: 0.5623\n",
      "Epoch 14/100\n",
      "226/226 [==============================] - 774s 3s/step - loss: 1.2204 - accuracy: 0.5353 - val_loss: 1.1463 - val_accuracy: 0.5655\n",
      "Epoch 15/100\n",
      "226/226 [==============================] - 747s 3s/step - loss: 1.2083 - accuracy: 0.5433 - val_loss: 1.1411 - val_accuracy: 0.5753\n",
      "Epoch 16/100\n",
      "226/226 [==============================] - 756s 3s/step - loss: 1.1954 - accuracy: 0.5449 - val_loss: 1.1251 - val_accuracy: 0.5712\n",
      "Epoch 17/100\n",
      "226/226 [==============================] - 776s 3s/step - loss: 1.1810 - accuracy: 0.5515 - val_loss: 1.1068 - val_accuracy: 0.5812\n",
      "Epoch 18/100\n",
      "226/226 [==============================] - 757s 3s/step - loss: 1.1716 - accuracy: 0.5553 - val_loss: 1.1148 - val_accuracy: 0.5811\n",
      "Epoch 19/100\n",
      "226/226 [==============================] - 775s 3s/step - loss: 1.1625 - accuracy: 0.5604 - val_loss: 1.1049 - val_accuracy: 0.5836\n",
      "Epoch 20/100\n",
      "226/226 [==============================] - 765s 3s/step - loss: 1.1478 - accuracy: 0.5676 - val_loss: 1.0888 - val_accuracy: 0.5945\n",
      "Epoch 21/100\n",
      "226/226 [==============================] - 767s 3s/step - loss: 1.1344 - accuracy: 0.5720 - val_loss: 1.1049 - val_accuracy: 0.5836\n",
      "Epoch 22/100\n",
      "226/226 [==============================] - 628s 3s/step - loss: 1.1327 - accuracy: 0.5723 - val_loss: 1.0753 - val_accuracy: 0.5957\n",
      "Epoch 23/100\n",
      "226/226 [==============================] - 365s 2s/step - loss: 1.1239 - accuracy: 0.5726 - val_loss: 1.0824 - val_accuracy: 0.5957\n",
      "Epoch 24/100\n",
      "226/226 [==============================] - 365s 2s/step - loss: 1.1174 - accuracy: 0.5768 - val_loss: 1.0881 - val_accuracy: 0.5900\n",
      "Epoch 25/100\n",
      "226/226 [==============================] - 364s 2s/step - loss: 1.1042 - accuracy: 0.5810 - val_loss: 1.1078 - val_accuracy: 0.5849\n",
      "Epoch 26/100\n",
      "226/226 [==============================] - 363s 2s/step - loss: 1.0982 - accuracy: 0.5852 - val_loss: 1.0702 - val_accuracy: 0.5989\n",
      "Epoch 27/100\n",
      "226/226 [==============================] - 359s 2s/step - loss: 1.0825 - accuracy: 0.5912 - val_loss: 1.0688 - val_accuracy: 0.6015\n",
      "Epoch 28/100\n",
      "226/226 [==============================] - 359s 2s/step - loss: 1.0722 - accuracy: 0.5948 - val_loss: 1.0746 - val_accuracy: 0.5950\n",
      "Epoch 29/100\n",
      "226/226 [==============================] - 360s 2s/step - loss: 1.0653 - accuracy: 0.5940 - val_loss: 1.0683 - val_accuracy: 0.5984\n",
      "Epoch 30/100\n",
      "226/226 [==============================] - 361s 2s/step - loss: 1.0651 - accuracy: 0.5959 - val_loss: 1.0662 - val_accuracy: 0.6029\n",
      "Epoch 31/100\n",
      "226/226 [==============================] - 360s 2s/step - loss: 1.0537 - accuracy: 0.6030 - val_loss: 1.0676 - val_accuracy: 0.6043\n",
      "Epoch 32/100\n",
      "226/226 [==============================] - 360s 2s/step - loss: 1.0387 - accuracy: 0.6108 - val_loss: 1.0519 - val_accuracy: 0.6066\n",
      "Epoch 33/100\n",
      "226/226 [==============================] - 360s 2s/step - loss: 1.0518 - accuracy: 0.6011 - val_loss: 1.0557 - val_accuracy: 0.5999\n",
      "Epoch 34/100\n",
      "226/226 [==============================] - 359s 2s/step - loss: 1.0331 - accuracy: 0.6110 - val_loss: 1.0605 - val_accuracy: 0.6006\n",
      "Epoch 35/100\n",
      "226/226 [==============================] - 360s 2s/step - loss: 1.0268 - accuracy: 0.6106 - val_loss: 1.0678 - val_accuracy: 0.6030\n",
      "Epoch 36/100\n",
      "226/226 [==============================] - 360s 2s/step - loss: 1.0263 - accuracy: 0.6131 - val_loss: 1.0603 - val_accuracy: 0.6056\n",
      "Epoch 37/100\n",
      "226/226 [==============================] - 360s 2s/step - loss: 1.0014 - accuracy: 0.6212 - val_loss: 1.0493 - val_accuracy: 0.6057\n",
      "Epoch 38/100\n",
      "226/226 [==============================] - 360s 2s/step - loss: 1.0128 - accuracy: 0.6189 - val_loss: 1.0578 - val_accuracy: 0.6071\n",
      "Epoch 39/100\n",
      "226/226 [==============================] - 360s 2s/step - loss: 0.9983 - accuracy: 0.6240 - val_loss: 1.0425 - val_accuracy: 0.6081\n",
      "Epoch 40/100\n",
      "226/226 [==============================] - 360s 2s/step - loss: 0.9919 - accuracy: 0.6273 - val_loss: 1.0445 - val_accuracy: 0.6093\n",
      "Epoch 41/100\n",
      "226/226 [==============================] - 361s 2s/step - loss: 0.9877 - accuracy: 0.6273 - val_loss: 1.0352 - val_accuracy: 0.6144\n",
      "Epoch 42/100\n",
      "226/226 [==============================] - 360s 2s/step - loss: 0.9802 - accuracy: 0.6316 - val_loss: 1.0497 - val_accuracy: 0.6101\n",
      "Epoch 43/100\n",
      "226/226 [==============================] - 361s 2s/step - loss: 0.9838 - accuracy: 0.6332 - val_loss: 1.0414 - val_accuracy: 0.6105\n",
      "Epoch 44/100\n",
      "226/226 [==============================] - 360s 2s/step - loss: 0.9715 - accuracy: 0.6357 - val_loss: 1.0522 - val_accuracy: 0.6122\n",
      "Epoch 45/100\n",
      "226/226 [==============================] - 361s 2s/step - loss: 0.9738 - accuracy: 0.6361 - val_loss: 1.0318 - val_accuracy: 0.6230\n",
      "Epoch 46/100\n",
      "226/226 [==============================] - 361s 2s/step - loss: 0.9601 - accuracy: 0.6384 - val_loss: 1.0286 - val_accuracy: 0.6179\n",
      "Epoch 47/100\n",
      "226/226 [==============================] - 361s 2s/step - loss: 0.9524 - accuracy: 0.6424 - val_loss: 1.0369 - val_accuracy: 0.6162\n",
      "Epoch 48/100\n",
      "226/226 [==============================] - 361s 2s/step - loss: 0.9460 - accuracy: 0.6447 - val_loss: 1.0387 - val_accuracy: 0.6200\n",
      "Epoch 49/100\n",
      "226/226 [==============================] - 361s 2s/step - loss: 0.9417 - accuracy: 0.6463 - val_loss: 1.0273 - val_accuracy: 0.6179\n",
      "Epoch 50/100\n",
      "226/226 [==============================] - 361s 2s/step - loss: 0.9421 - accuracy: 0.6462 - val_loss: 1.0331 - val_accuracy: 0.6200\n",
      "Epoch 51/100\n",
      "226/226 [==============================] - 361s 2s/step - loss: 0.9323 - accuracy: 0.6484 - val_loss: 1.0250 - val_accuracy: 0.6189\n",
      "Epoch 52/100\n",
      "226/226 [==============================] - 361s 2s/step - loss: 0.9278 - accuracy: 0.6547 - val_loss: 1.0436 - val_accuracy: 0.6142\n",
      "Epoch 53/100\n",
      "226/226 [==============================] - 361s 2s/step - loss: 0.9127 - accuracy: 0.6587 - val_loss: 1.0220 - val_accuracy: 0.6237\n",
      "Epoch 54/100\n",
      "226/226 [==============================] - 361s 2s/step - loss: 0.9123 - accuracy: 0.6595 - val_loss: 1.0330 - val_accuracy: 0.6200\n",
      "Epoch 55/100\n",
      "226/226 [==============================] - 361s 2s/step - loss: 0.9101 - accuracy: 0.6628 - val_loss: 1.0277 - val_accuracy: 0.6190\n",
      "Epoch 56/100\n",
      "226/226 [==============================] - 360s 2s/step - loss: 0.8979 - accuracy: 0.6664 - val_loss: 1.0431 - val_accuracy: 0.6158\n",
      "Epoch 57/100\n",
      "226/226 [==============================] - 361s 2s/step - loss: 0.9053 - accuracy: 0.6630 - val_loss: 1.0260 - val_accuracy: 0.6248\n",
      "Epoch 58/100\n",
      "226/226 [==============================] - 361s 2s/step - loss: 0.9049 - accuracy: 0.6614 - val_loss: 1.0129 - val_accuracy: 0.6312\n",
      "Epoch 59/100\n",
      "226/226 [==============================] - 361s 2s/step - loss: 0.8905 - accuracy: 0.6716 - val_loss: 1.0374 - val_accuracy: 0.6226\n",
      "Epoch 60/100\n",
      "226/226 [==============================] - 361s 2s/step - loss: 0.8830 - accuracy: 0.6730 - val_loss: 1.0214 - val_accuracy: 0.6291\n",
      "Epoch 61/100\n",
      "226/226 [==============================] - 364s 2s/step - loss: 0.8802 - accuracy: 0.6708 - val_loss: 1.0198 - val_accuracy: 0.6228\n",
      "Epoch 62/100\n",
      "226/226 [==============================] - 374s 2s/step - loss: 0.8701 - accuracy: 0.6752 - val_loss: 1.0260 - val_accuracy: 0.6254\n",
      "Epoch 63/100\n",
      "226/226 [==============================] - 375s 2s/step - loss: 0.8720 - accuracy: 0.6754 - val_loss: 1.0187 - val_accuracy: 0.6244\n",
      "Epoch 64/100\n",
      "226/226 [==============================] - 373s 2s/step - loss: 0.8587 - accuracy: 0.6813 - val_loss: 1.0246 - val_accuracy: 0.6223\n",
      "Epoch 65/100\n",
      "226/226 [==============================] - 374s 2s/step - loss: 0.8630 - accuracy: 0.6796 - val_loss: 1.0395 - val_accuracy: 0.6202\n",
      "Epoch 66/100\n",
      "226/226 [==============================] - 376s 2s/step - loss: 0.8525 - accuracy: 0.6861 - val_loss: 1.0288 - val_accuracy: 0.6227\n",
      "Epoch 67/100\n",
      "226/226 [==============================] - 375s 2s/step - loss: 0.8479 - accuracy: 0.6858 - val_loss: 1.0426 - val_accuracy: 0.6176\n",
      "Epoch 68/100\n",
      "226/226 [==============================] - 375s 2s/step - loss: 0.8470 - accuracy: 0.6862 - val_loss: 1.0215 - val_accuracy: 0.6243\n",
      "Epoch 69/100\n",
      "226/226 [==============================] - 374s 2s/step - loss: 0.8395 - accuracy: 0.6876 - val_loss: 1.0129 - val_accuracy: 0.6294\n",
      "Epoch 70/100\n",
      "226/226 [==============================] - 375s 2s/step - loss: 0.8431 - accuracy: 0.6909 - val_loss: 1.0155 - val_accuracy: 0.6243\n",
      "Epoch 71/100\n",
      "226/226 [==============================] - 375s 2s/step - loss: 0.8381 - accuracy: 0.6862 - val_loss: 1.0346 - val_accuracy: 0.6237\n",
      "Epoch 72/100\n",
      "226/226 [==============================] - 374s 2s/step - loss: 0.8262 - accuracy: 0.6923 - val_loss: 1.0210 - val_accuracy: 0.6219\n",
      "Epoch 73/100\n",
      "226/226 [==============================] - 374s 2s/step - loss: 0.8236 - accuracy: 0.6979 - val_loss: 1.0214 - val_accuracy: 0.6245\n",
      "Epoch 74/100\n",
      "226/226 [==============================] - 375s 2s/step - loss: 0.8199 - accuracy: 0.6992 - val_loss: 1.0217 - val_accuracy: 0.6279\n",
      "Epoch 75/100\n",
      "226/226 [==============================] - 374s 2s/step - loss: 0.8133 - accuracy: 0.6994 - val_loss: 1.0309 - val_accuracy: 0.6245\n",
      "Epoch 76/100\n",
      "226/226 [==============================] - 374s 2s/step - loss: 0.8103 - accuracy: 0.7012 - val_loss: 1.0360 - val_accuracy: 0.6192\n",
      "Epoch 77/100\n",
      "226/226 [==============================] - 375s 2s/step - loss: 0.8049 - accuracy: 0.7022 - val_loss: 1.0408 - val_accuracy: 0.6274\n",
      "Epoch 78/100\n",
      "226/226 [==============================] - 375s 2s/step - loss: 0.8104 - accuracy: 0.7009 - val_loss: 1.0369 - val_accuracy: 0.6197\n",
      "Epoch 79/100\n",
      "226/226 [==============================] - 382s 2s/step - loss: 0.8048 - accuracy: 0.7047 - val_loss: 1.0264 - val_accuracy: 0.6245\n",
      "Epoch 80/100\n",
      "226/226 [==============================] - 385s 2s/step - loss: 0.7970 - accuracy: 0.7048 - val_loss: 1.0282 - val_accuracy: 0.6269\n",
      "Epoch 81/100\n",
      "226/226 [==============================] - 375s 2s/step - loss: 0.7873 - accuracy: 0.7092 - val_loss: 1.0328 - val_accuracy: 0.6281\n",
      "Epoch 82/100\n",
      "226/226 [==============================] - 372s 2s/step - loss: 0.7882 - accuracy: 0.7116 - val_loss: 1.0237 - val_accuracy: 0.6268\n",
      "Epoch 83/100\n",
      "226/226 [==============================] - 395s 2s/step - loss: 0.7870 - accuracy: 0.7117 - val_loss: 1.0344 - val_accuracy: 0.6299\n",
      "Epoch 84/100\n",
      "226/226 [==============================] - 403s 2s/step - loss: 0.7882 - accuracy: 0.7143 - val_loss: 1.0287 - val_accuracy: 0.6284\n",
      "Epoch 85/100\n",
      "226/226 [==============================] - 404s 2s/step - loss: 0.7784 - accuracy: 0.7152 - val_loss: 1.0265 - val_accuracy: 0.6291\n",
      "Epoch 86/100\n",
      "226/226 [==============================] - 388s 2s/step - loss: 0.7793 - accuracy: 0.7106 - val_loss: 1.0299 - val_accuracy: 0.6264\n",
      "Epoch 87/100\n",
      "226/226 [==============================] - 401s 2s/step - loss: 0.7669 - accuracy: 0.7202 - val_loss: 1.0379 - val_accuracy: 0.6255\n",
      "Epoch 88/100\n",
      "226/226 [==============================] - 398s 2s/step - loss: 0.7649 - accuracy: 0.7201 - val_loss: 1.0403 - val_accuracy: 0.6282\n",
      "Epoch 89/100\n",
      "226/226 [==============================] - 401s 2s/step - loss: 0.7632 - accuracy: 0.7204 - val_loss: 1.0360 - val_accuracy: 0.6251\n",
      "Epoch 90/100\n",
      "226/226 [==============================] - 403s 2s/step - loss: 0.7623 - accuracy: 0.7216 - val_loss: 1.0522 - val_accuracy: 0.6260\n",
      "Epoch 91/100\n",
      "226/226 [==============================] - 385s 2s/step - loss: 0.7537 - accuracy: 0.7289 - val_loss: 1.0440 - val_accuracy: 0.6305\n",
      "Epoch 92/100\n",
      "226/226 [==============================] - 392s 2s/step - loss: 0.7461 - accuracy: 0.7268 - val_loss: 1.0426 - val_accuracy: 0.6291\n",
      "Epoch 93/100\n",
      "226/226 [==============================] - 414s 2s/step - loss: 0.7538 - accuracy: 0.7248 - val_loss: 1.0414 - val_accuracy: 0.6332\n",
      "Epoch 94/100\n",
      "226/226 [==============================] - 407s 2s/step - loss: 0.7476 - accuracy: 0.7266 - val_loss: 1.0376 - val_accuracy: 0.6271\n",
      "Epoch 95/100\n",
      "226/226 [==============================] - 376s 2s/step - loss: 0.7268 - accuracy: 0.7334 - val_loss: 1.0322 - val_accuracy: 0.6308\n",
      "Epoch 96/100\n",
      "226/226 [==============================] - 379s 2s/step - loss: 0.7424 - accuracy: 0.7318 - val_loss: 1.0348 - val_accuracy: 0.6315\n",
      "Epoch 97/100\n",
      "226/226 [==============================] - 377s 2s/step - loss: 0.7386 - accuracy: 0.7329 - val_loss: 1.0489 - val_accuracy: 0.6313\n",
      "Epoch 98/100\n",
      "226/226 [==============================] - 381s 2s/step - loss: 0.7241 - accuracy: 0.7357 - val_loss: 1.0521 - val_accuracy: 0.6320\n",
      "Epoch 99/100\n",
      "226/226 [==============================] - 386s 2s/step - loss: 0.7370 - accuracy: 0.7330 - val_loss: 1.0445 - val_accuracy: 0.6286\n",
      "Epoch 100/100\n",
      "226/226 [==============================] - 413s 2s/step - loss: 0.7304 - accuracy: 0.7359 - val_loss: 1.0379 - val_accuracy: 0.6380\n"
     ]
    },
    {
     "data": {
      "text/plain": [
       "<keras.src.callbacks.History at 0x173d0303410>"
      ]
     },
     "execution_count": 19,
     "metadata": {},
     "output_type": "execute_result"
    }
   ],
   "source": [
    "model.fit(x = x_train, y = y_train, batch_size = 128, epochs=100, validation_data = (x_test,y_test)) "
   ]
  },
  {
   "cell_type": "code",
   "execution_count": 20,
   "id": "c59ff211-667c-4eb8-82a6-01d74fc5fded",
   "metadata": {},
   "outputs": [
    {
     "name": "stderr",
     "output_type": "stream",
     "text": [
      "C:\\Users\\KIIT\\AppData\\Local\\Programs\\Python\\Python311\\Lib\\site-packages\\keras\\src\\engine\\training.py:3000: UserWarning: You are saving your model as an HDF5 file via `model.save()`. This file format is considered legacy. We recommend using instead the native Keras format, e.g. `model.save('my_model.keras')`.\n",
      "  saving_api.save_model(\n"
     ]
    }
   ],
   "source": [
    "model_json = model.to_json()\n",
    "with open(\"Personality_Prediction.json\",'w') as json_file:\n",
    "    json_file.write(model_json)\n",
    "model.save(\"Personality_Prediction.h5\")"
   ]
  },
  {
   "cell_type": "code",
   "execution_count": 21,
   "id": "e08194d6-f161-4c8c-a2ed-8727f4e7a261",
   "metadata": {},
   "outputs": [],
   "source": [
    "from keras.models import model_from_json"
   ]
  },
  {
   "cell_type": "code",
   "execution_count": 22,
   "id": "8f85d047-6259-4579-a6ee-5fc1418ef286",
   "metadata": {},
   "outputs": [],
   "source": [
    "json_file = open(\"Personality_Prediction.json\",\"r\")\n",
    "model_json = json_file.read()\n",
    "json_file.close()\n",
    "model = model_from_json(model_json)\n",
    "model.load_weights(\"Personality_Prediction.h5\")"
   ]
  },
  {
   "cell_type": "code",
   "execution_count": 23,
   "id": "033ba908-e03f-4b7c-a744-fb0b233b365b",
   "metadata": {},
   "outputs": [],
   "source": [
    "label = ['angry','disgust','fear','happy','neutral','sad','surprise']"
   ]
  },
  {
   "cell_type": "code",
   "execution_count": 24,
   "id": "fe17f8b1-948f-4681-8e76-a8e797e1c93b",
   "metadata": {},
   "outputs": [],
   "source": [
    "def ef(image):\n",
    "    img = load_img(image, color_mode='grayscale')\n",
    "    feature = img_to_array(img)\n",
    "    feature = feature.reshape(1, 48, 48, 1)\n",
    "    return feature / 255.0"
   ]
  },
  {
   "cell_type": "code",
   "execution_count": 25,
   "id": "fc9aec6d-ea03-4c60-b188-b6c410112803",
   "metadata": {},
   "outputs": [
    {
     "name": "stdout",
     "output_type": "stream",
     "text": [
      "Original image is angry\n",
      "1/1 [==============================] - 0s 256ms/step\n",
      "Model prediction is :  angry\n"
     ]
    }
   ],
   "source": [
    "image = 'images/train/angry/27.jpg'\n",
    "print(\"Original image is angry\")\n",
    "img = ef(image)\n",
    "pred = model.predict(img)\n",
    "pred_label = label[pred.argmax()]\n",
    "print(\"Model prediction is : \",pred_label)"
   ]
  },
  {
   "cell_type": "code",
   "execution_count": 26,
   "id": "b5e7b944-1ba6-41ff-bc93-2ff230f04788",
   "metadata": {},
   "outputs": [
    {
     "data": {
      "text/plain": [
       "<matplotlib.image.AxesImage at 0x173ed206750>"
      ]
     },
     "execution_count": 26,
     "metadata": {},
     "output_type": "execute_result"
    },
    {
     "data": {
      "image/png": "[encoded data removed]",
      "text/plain": [
       "<Figure size 640x480 with 1 Axes>"
      ]
     },
     "metadata": {},
     "output_type": "display_data"
    }
   ],
   "source": [
    "import matplotlib.pyplot as plt\n",
    "plt.imshow(img.reshape(48,48),cmap='gray')"
   ]
  },
  {
   "cell_type": "code",
   "execution_count": null,
   "id": "f01bd245-acde-48c9-9b9d-fcc26424240b",
   "metadata": {},
   "outputs": [],
   "source": []
  },
  {
   "cell_type": "code",
   "execution_count": null,
   "id": "70474174-9f99-4721-9b55-e66eff2f8183",
   "metadata": {},
   "outputs": [],
   "source": []
  }
 ],
 "metadata": {
  "kernelspec": {
   "display_name": "Python 3 (ipykernel)",
   "language": "python",
   "name": "python3"
  },
  "language_info": {
   "codemirror_mode": {
    "name": "ipython",
    "version": 3
   },
   "file_extension": ".py",
   "mimetype": "text/x-python",
   "name": "python",
   "nbconvert_exporter": "python",
   "pygments_lexer": "ipython3",
   "version": "3.11.4"
  }
 },
 "nbformat": 4,
 "nbformat_minor": 5
}
